{
 "cells": [
  {
   "cell_type": "code",
   "execution_count": 6,
   "metadata": {},
   "outputs": [
    {
     "name": "stdout",
     "output_type": "stream",
     "text": [
      "1718\n",
      "1605\n",
      "Positivos: 650.000000 Negativos 955.000000\n",
      "532\n",
      "525\n",
      "Positivos: 367.000000 Negativos 158.000000\n"
     ]
    },
    {
     "name": "stderr",
     "output_type": "stream",
     "text": [
      "D:\\Programs\\Anaconda3\\lib\\site-packages\\numpy\\core\\fromnumeric.py:52: FutureWarning: Series.nonzero() is deprecated and will be removed in a future version.Use Series.to_numpy().nonzero() instead\n",
      "  return getattr(obj, method)(*args, **kwds)\n"
     ]
    },
    {
     "name": "stdout",
     "output_type": "stream",
     "text": [
      "522\n",
      "498\n",
      "Positivos: 337.000000 Negativos 161.000000\n",
      "2772\n",
      "2628\n",
      "Positivos: 1354.000000 Negativos 1274.000000\n"
     ]
    }
   ],
   "source": [
    "import numpy as np #importa a biblioteca usada para trabalhar com vetores e matrizes\n",
    "import pandas as pd #importa a biblioteca usada para trabalhar com dataframes\n",
    "import util\n",
    "\n",
    "df_dataset = pd.read_csv( 'datasets/ARCHEAGE.csv', sep=',', index_col=None, header=0)\n",
    "print(len(df_dataset['TWEET'].values))\n",
    "df_dataset = df_dataset.drop_duplicates()\n",
    "print(len(df_dataset['TWEET'].values))\n",
    "m = len(df_dataset['TWEET'].values)\n",
    "print('Positivos: %f Negativos %f' % (len(np.argwhere(df_dataset['CLASS'] == 1)), len(np.argwhere(df_dataset['CLASS'] == -1))))\n",
    "df_dataset.to_csv('datasets/clean_ARCHEAGE.csv', index=False)\n",
    "\n",
    "df_dataset = pd.read_csv( 'datasets/IPHONE6.csv', sep=',', index_col=None, header=0)\n",
    "print(len(df_dataset['TWEET'].values))\n",
    "df_dataset = df_dataset.drop_duplicates()\n",
    "print(len(df_dataset['TWEET'].values))\n",
    "print('Positivos: %f Negativos %f' % (len(np.argwhere(df_dataset['CLASS'] == 1)), len(np.argwhere(df_dataset['CLASS'] == -1))))\n",
    "df_dataset.to_csv('datasets/clean_IPHONE6.csv', index=False)\n",
    "\n",
    "df_dataset = pd.read_csv( 'datasets/HOBBIT.csv', sep=',', index_col=None, header=0)\n",
    "print(len(df_dataset['TWEET'].values))\n",
    "df_dataset = df_dataset.drop_duplicates()\n",
    "print(len(df_dataset['TWEET'].values))\n",
    "print('Positivos: %f Negativos %f' % (len(np.argwhere(df_dataset['CLASS'] == 1)), len(np.argwhere(df_dataset['CLASS'] == -1))))\n",
    "df_dataset.to_csv('datasets/clean_HOBBIT.csv', index=False)\n",
    "\n",
    "df_dataset = pd.read_csv( 'datasets/everything.csv', sep=',', index_col=None, header=0)\n",
    "print(len(df_dataset['TWEET'].values))\n",
    "df_dataset = df_dataset.drop_duplicates()\n",
    "print(len(df_dataset['TWEET'].values))\n",
    "print('Positivos: %f Negativos %f' % (len(np.argwhere(df_dataset['CLASS'] == 1)), len(np.argwhere(df_dataset['CLASS'] == -1))))\n",
    "df_dataset.to_csv('datasets/clean_everything.csv', index=False)\n",
    "\n",
    "\n",
    "#df_dataset.to_csv('datasets/clean_everything.csv', index=False)"
   ]
  },
  {
   "cell_type": "code",
   "execution_count": null,
   "metadata": {},
   "outputs": [],
   "source": []
  }
 ],
 "metadata": {
  "kernelspec": {
   "display_name": "Python 3",
   "language": "python",
   "name": "python3"
  },
  "language_info": {
   "codemirror_mode": {
    "name": "ipython",
    "version": 3
   },
   "file_extension": ".py",
   "mimetype": "text/x-python",
   "name": "python",
   "nbconvert_exporter": "python",
   "pygments_lexer": "ipython3",
   "version": "3.6.8"
  }
 },
 "nbformat": 4,
 "nbformat_minor": 2
}
