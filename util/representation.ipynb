{
 "cells": [
  {
   "cell_type": "code",
   "execution_count": 3,
   "metadata": {},
   "outputs": [],
   "source": [
    "import numpy as np\n",
    "import pandas as pd\n",
    "from stemmer import Stemmer\n",
    "import re,string\n",
    "\n",
    "def tweet_cleaner(tweet, stopwords = None, s = None):\n",
    "    if stopwords is None:\n",
    "        stopwords = pd.read_csv( '../datasets/stopwords.csv', sep=',', index_col=None, header=None)\n",
    "        stopwords =  np.concatenate((stopwords.iloc[:,0].values, ['AT_USER', 'URL']))\n",
    "    if s is None:\n",
    "        s = Stemmer()\n",
    "    tweet = tweet.lower() # convert text to lower-case\n",
    "    tweet = re.sub('((www\\.[^\\s]+)|(https?://[^\\s]+))', 'URL', tweet) # remove URLs\n",
    "    tweet = re.sub('@[^\\s]+', 'AT_USER', tweet) # remove usernames\n",
    "    tweet = re.sub(r'#([^\\s]+)', r'\\1', tweet) # remove the # in #hashtag\n",
    "    tweet = tweet.translate(str.maketrans(string.punctuation,len(string.punctuation)*' ')) # remove punctuation\n",
    "    tweet = re.findall(r'\\w+', tweet) #tweet.findall(r'\\w+') # split words\n",
    "    tweet = [s.stem(word) for word in tweet] # stemming words\n",
    "    return [word for word in tweet if word not in stopwords]\n",
    "\n",
    "def tweets_cleaner(tweets, stopwords = None, s = None):\n",
    "    cleaned_tweets = []\n",
    "    if stopwords is None:\n",
    "        stopwords = pd.read_csv( '../datasets/stopwords.csv', sep=',', index_col=None, header=None)\n",
    "        stopwords =  np.concatenate((stopwords.iloc[:,0].values, ['AT_USER', 'URL']))\n",
    "    if s is None:\n",
    "        s = Stemmer()\n",
    "    for i in tweets:\n",
    "        cleaned_tweets.append(tweet_cleaner(i, stopwords, s))\n",
    "    return cleaned_tweets\n",
    "\n",
    "def build_vocab(cleaned_tweets):\n",
    "    vocab = []\n",
    "    \n",
    "    for i in cleaned_tweets:\n",
    "        vocab.extend(i)\n",
    "        \n",
    "    vocab = np.sort(list(set(vocab)))\n",
    "    \n",
    "    return vocab\n",
    "\n",
    "def build_features(tweet, vocab):\n",
    "    features = np.zeros(len(vocab))\n",
    "    features = np.isin(vocab, tweet).astype(int)\n",
    "    return features\n",
    "\n",
    "def build_representation(tweets, vocab):\n",
    "    data = []\n",
    "    for i in tweets:\n",
    "        data.append(build_features(i,vocab))\n",
    "    return data"
   ]
  },
  {
   "cell_type": "code",
   "execution_count": 4,
   "metadata": {},
   "outputs": [
    {
     "name": "stdout",
     "output_type": "stream",
     "text": [
      "['iphone6' 'sweepstak' 'win']\n"
     ]
    }
   ],
   "source": [
    "cleaned_tweets = tweets_cleaner([\"#winning; an #iphone6 can't sweepstakes http://t.co/r7mya2cexo\"])\n",
    "vocab = build_vocab(cleaned_tweets)\n",
    "print(vocab)"
   ]
  },
  {
   "cell_type": "code",
   "execution_count": 5,
   "metadata": {},
   "outputs": [
    {
     "data": {
      "text/plain": [
       "[array([1, 1, 1])]"
      ]
     },
     "execution_count": 5,
     "metadata": {},
     "output_type": "execute_result"
    }
   ],
   "source": [
    "build_representation(cleaned_tweets, vocab)"
   ]
  },
  {
   "cell_type": "code",
   "execution_count": 6,
   "metadata": {},
   "outputs": [
    {
     "data": {
      "text/plain": [
       "['win', 'an', 'iphone6', 'sweepstakes', 'URL']"
      ]
     },
     "execution_count": 6,
     "metadata": {},
     "output_type": "execute_result"
    }
   ],
   "source": [
    "'win; an iphone6 sweepstakes URL'.translate(str.maketrans(string.punctuation,len(string.punctuation)*' ')).split()"
   ]
  },
  {
   "cell_type": "code",
   "execution_count": null,
   "metadata": {},
   "outputs": [],
   "source": []
  }
 ],
 "metadata": {
  "kernelspec": {
   "display_name": "Python 3",
   "language": "python",
   "name": "python3"
  },
  "language_info": {
   "codemirror_mode": {
    "name": "ipython",
    "version": 3
   },
   "file_extension": ".py",
   "mimetype": "text/x-python",
   "name": "python",
   "nbconvert_exporter": "python",
   "pygments_lexer": "ipython3",
   "version": "3.7.1"
  }
 },
 "nbformat": 4,
 "nbformat_minor": 2
}
