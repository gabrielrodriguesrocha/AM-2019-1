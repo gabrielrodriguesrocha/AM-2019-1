{
 "cells": [
  {
   "cell_type": "code",
   "execution_count": 4,
   "metadata": {},
   "outputs": [
    {
     "name": "stdout",
     "output_type": "stream",
     "text": [
      "['lol' 'ol' 'atl' 'tle' 'lea']\n",
      "['lol' 'ol' 'atl' 'tle' 'lea']\n"
     ]
    }
   ],
   "source": [
    "import numpy as np #importa a biblioteca usada para trabalhar com vetores e matrizes\n",
    "import pandas as pd #importa a biblioteca usada para trabalhar com dataframes\n",
    "import util\n",
    "from scipy.sparse import bsr_matrix\n",
    "\n",
    "import svmutil\n",
    "from svmutil import svm_read_problem\n",
    "from svmutil import svm_problem\n",
    "from svmutil import svm_parameter\n",
    "from svmutil import svm_train\n",
    "from svmutil import svm_predict\n",
    "from svmutil import svm_save_model\n",
    "\n",
    "#importa o arquivo e extrai as features\n",
    "Xfeatures, Y = util.extract_features('everything.csv', rep='ngrams',n=3)\n",
    "vocab = util.extract_vocab('everything.csv', rep='ngrams',n=3)\n",
    "\n",
    "model = svm_train(Y, bsr_matrix(Xfeatures), '-q -c %f -t %d -g %f' %(0.25, 1, 0.125))"
   ]
  },
  {
   "cell_type": "code",
   "execution_count": 10,
   "metadata": {},
   "outputs": [],
   "source": [
    "pd.DataFrame(vocab).to_csv('vocab.csv', index=False, header=False)\n",
    "svm_save_model('libsvm.model', model)"
   ]
  },
  {
   "cell_type": "code",
   "execution_count": 6,
   "metadata": {},
   "outputs": [
    {
     "name": "stdout",
     "output_type": "stream",
     "text": [
      "Accuracy = 99.2063% (2750/2772) (classification)\n",
      "[0.00036075 0.00036075 0.00036075 ... 0.00036075 0.00036075 0.00036075]\n",
      "[1.0, 0.0, 0.0, 1.0, 0.0, 1.0, 0.0, 1.0, 0.0, 1.0]\n"
     ]
    }
   ],
   "source": [
    "p_labs, p_acc, p_vals = svm_predict(Y, bsr_matrix(Xfeatures), model)\n",
    "\n",
    "print((p_labs == Y) / len(Y))\n"
   ]
  },
  {
   "cell_type": "code",
   "execution_count": 7,
   "metadata": {},
   "outputs": [
    {
     "name": "stdout",
     "output_type": "stream",
     "text": [
      "[1.0, 0.0, 0.0, 1.0, 0.0, 1.0, 0.0, 1.0, 0.0, 1.0]\n",
      "[1 0 0 1 0 1 0 1 0 1]\n"
     ]
    }
   ],
   "source": [
    "print(p_labs[:10])\n",
    "print(Y[:10])"
   ]
  },
  {
   "cell_type": "code",
   "execution_count": 9,
   "metadata": {},
   "outputs": [
    {
     "name": "stdout",
     "output_type": "stream",
     "text": [
      "[[  27]\n",
      " [ 265]\n",
      " [ 431]\n",
      " [1083]\n",
      " [1362]\n",
      " [1817]\n",
      " [2303]\n",
      " [3327]]\n"
     ]
    }
   ],
   "source": [
    "print(np.argwhere(Xfeatures[1] > 0))"
   ]
  },
  {
   "cell_type": "code",
   "execution_count": null,
   "metadata": {},
   "outputs": [],
   "source": []
  }
 ],
 "metadata": {
  "kernelspec": {
   "display_name": "Python 3",
   "language": "python",
   "name": "python3"
  },
  "language_info": {
   "codemirror_mode": {
    "name": "ipython",
    "version": 3
   },
   "file_extension": ".py",
   "mimetype": "text/x-python",
   "name": "python",
   "nbconvert_exporter": "python",
   "pygments_lexer": "ipython3",
   "version": "3.6.8"
  }
 },
 "nbformat": 4,
 "nbformat_minor": 2
}
