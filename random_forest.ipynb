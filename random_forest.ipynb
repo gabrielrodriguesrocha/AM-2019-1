{
 "cells": [
  {
   "cell_type": "code",
   "execution_count": null,
   "metadata": {},
   "outputs": [],
   "source": [
    "import matplotlib.pyplot as plt\n",
    "\n",
    "import numpy as np #importa a biblioteca usada para trabalhar com vetores e matrizes\n",
    "import pandas as pd #importa a biblioteca usada para trabalhar com dataframes\n",
    "import util\n",
    "from random import randrange\n",
    "import math\n",
    "#importa o arquivo e extrai as features\n",
    "Xfeatures, Y = util.extract_features('datasets/ARCHEAGE.csv')"
   ]
  },
  {
   "cell_type": "code",
   "execution_count": null,
   "metadata": {},
   "outputs": [],
   "source": [
    "def get_split(X, Y, n_features):\n",
    "    b_index, b_value, b_score, b_groups = 999, 999, 999, None\n",
    "    atr = []\n",
    "    while len(atr) < n_features:\n",
    "        idx = randrange(n_features)\n",
    "        if idx not in atr:\n",
    "            atr.append(idx)\n",
    "        for idx in atr:\n",
    "            for row in X:\n",
    "                groups = test_split(idx, row[idx], X, Y)\n",
    "                gini = gini_index(groups, Y)\n",
    "            if gini < b_score:\n",
    "                b_index, b_value, b_score, b_groups = idx, row[idx], gini, groups\n",
    "            return {'index':b_index, 'value':b_value, 'groups':b_groups}"
   ]
  },
  {
   "cell_type": "code",
   "execution_count": null,
   "metadata": {},
   "outputs": [],
   "source": [
    "def test_split(idx, value, X, Y):\n",
    "    left, right = [], []\n",
    "    i = 0\n",
    "    for row in X:\n",
    "        if row[idx] < value:\n",
    "            np.append(row, Y[i])\n",
    "            left.append(row)\n",
    "            i += 1\n",
    "        else:\n",
    "            np.append(row, Y[i])\n",
    "            right.append(row)\n",
    "            i += 1\n",
    "    return left, right"
   ]
  },
  {
   "cell_type": "code",
   "execution_count": null,
   "metadata": {},
   "outputs": [],
   "source": [
    "def gini_index(groups, classes):\n",
    "    n = sum([len(group) for group in groups])\n",
    "    gini = 0.0\n",
    "    \n",
    "    for group in groups:\n",
    "        size = len(group)\n",
    "        \n",
    "        if size == 0:\n",
    "            continue\n",
    "        score = 0.0\n",
    "        for class_val in classes:\n",
    "            p = [row[-1] for row in group].count(class_val) / size\n",
    "            score += p * p\n",
    "        gini += (1.0 - score) * (size / float(n))\n",
    "        return gini"
   ]
  },
  {
   "cell_type": "code",
   "execution_count": null,
   "metadata": {},
   "outputs": [],
   "source": [
    "def to_terminal(group):\n",
    "    outcomes = [row[-1] for row in group]\n",
    "    return max(set(outcomes), key=outcomes.count)"
   ]
  },
  {
   "cell_type": "code",
   "execution_count": null,
   "metadata": {},
   "outputs": [],
   "source": [
    "def split(node, max_depth, min_size, n_features, depth):\n",
    "    left, right = node['groups']\n",
    "    del(node['groups'])\n",
    "    \n",
    "    if not left or not right:\n",
    "        node['left'] = node['right'] = to_terminal(left + right)\n",
    "        return\n",
    "    if depth >= max_depth:\n",
    "        node['left'], node['right'] = to_terminal(left), to_terminal(right)\n",
    "        return\n",
    "    if len(left) <= min_size:\n",
    "        node['left'] = to_terminal(left)\n",
    "    else:\n",
    "        node['left'] = get_split(left, n_features)\n",
    "        split(node['left'], max_depth, min_size, n_features, depth+1)\n",
    "        \n",
    "    if len(right) <= min_size:\n",
    "        node['right'] = to_terminal(right)\n",
    "    else:\n",
    "        node['right'] = get_split(right, n_features)\n",
    "        split(node['right'], max_depth, min_size, n_features, depth+1)"
   ]
  },
  {
   "cell_type": "code",
   "execution_count": null,
   "metadata": {},
   "outputs": [],
   "source": [
    "def build_tree(X_train, max_depth, min_size, n_features, Y_train):\n",
    "    root = get_split(X_train, Y_train, n_features)\n",
    "    split(root, max_depth, min_size, n_features, 1)\n",
    "    return root"
   ]
  },
  {
   "cell_type": "code",
   "execution_count": null,
   "metadata": {},
   "outputs": [],
   "source": [
    "def subsample(X, ratio):\n",
    "    sample = list()\n",
    "    n_sample = round(len(X) * ratio)\n",
    "    while len(sample) < n_sample:\n",
    "        idx = randrange(len(X))\n",
    "        sample.append(X[idx])\n",
    "    return sample"
   ]
  },
  {
   "cell_type": "code",
   "execution_count": null,
   "metadata": {},
   "outputs": [],
   "source": [
    "def predict(node, row):\n",
    "    if row[node['index']] < node['value']:\n",
    "        if isinstance(node['left'], dict):\n",
    "            return predict(node['left'], row)\n",
    "        else:\n",
    "            return node['left']\n",
    "    else:\n",
    "        if isinstance(node['right'], dict):\n",
    "            return predict(node['right'], row)\n",
    "        else:\n",
    "            return node['right']"
   ]
  },
  {
   "cell_type": "code",
   "execution_count": null,
   "metadata": {},
   "outputs": [],
   "source": [
    "def bagging_predict(trees, row):\n",
    "    predictions = [predict(tree, row) for tree in trees]\n",
    "    return max(set(predictions), key=predictions.count)"
   ]
  },
  {
   "cell_type": "code",
   "execution_count": null,
   "metadata": {},
   "outputs": [],
   "source": [
    "def random_forest(X_train, X_test, max_depth, min_size, sample_size, n_trees, n_features, Y_train):\n",
    "    trees = []\n",
    "    for i in range(n_trees):\n",
    "        sample = subsample(X_train, sample_size)\n",
    "        tree = build_tree(sample, max_depth, min_size, n_features, Y_train)\n",
    "        trees.append(tree)\n",
    "    predictions = [bagging_predict(trees, row) for row in X_test]\n",
    "    return(predictions)"
   ]
  },
  {
   "cell_type": "code",
   "execution_count": null,
   "metadata": {},
   "outputs": [],
   "source": [
    "# semente usada na randomizacao dos dados.\n",
    "randomSeed = 10 \n",
    "\n",
    "# gera os indices aleatorios que irao definir a ordem dos dados\n",
    "idx_perm = np.random.RandomState(randomSeed).permutation(range(len(Y)))\n",
    "\n",
    "# ordena os dados de acordo com os indices gerados aleatoriamente\n",
    "Xk, Yk = Xfeatures[idx_perm, :], Y[idx_perm]\n",
    "\n",
    "nFolds = 10\n",
    "classes = [0,1]\n",
    "folds = util.stratified_kfolds(Yk, nFolds, classes)\n",
    "\n",
    "k=1\n",
    "resultados=[]\n",
    "\n",
    "for train_index, test_index in folds:\n",
    "    print('\\n-----------\\n%d-fold: \\n-----------\\n' % (k) )\n",
    "    \n",
    "    # se train_index ou test_index forem vazios, interrompe o laco de repeticao\n",
    "    if len(train_index)==0 or len(test_index)==0: \n",
    "        print('\\tErro: o vetor com os indices de treinamento ou o vetor com os indices de teste esta vazio')      \n",
    "        break\n",
    "        \n",
    "    totalFold = len(train_index)+len(test_index)\n",
    "\n",
    "    X_train, X_test = Xk[train_index, :], Xk[test_index, :];\n",
    "    Y_train, Y_test = Yk[train_index], Yk[test_index];\n",
    "    \n",
    "    # separa os dados de treinamento em treinamento e validacao\n",
    "    pTrain = 0.8\n",
    "    train_index_v, val_index = util.stratified_holdOut(Y_train, pTrain)\n",
    "    \n",
    "    max_depth = 10\n",
    "    min_size = 1\n",
    "    sample_size = 1.0\n",
    "    n_features = int(math.sqrt(len(Xfeatures[0])))\n",
    "    for n_trees in [1, 5, 10]:\n",
    "        Y_pred = random_forest(X_train, X_test, max_depth, min_size, sample_size, n_trees, len(Xfeatures[0]), Y_train)\n",
    "        print('Trees: %d' % n_trees)\n",
    "        cm = util.get_confusionMatrix(Y_test, Y_pred, classes)\n",
    "        print(cm)\n",
    "        print('\\n\\tResultado no fold atual usando o melhor parametro encontrado:')\n",
    "        auxResults = util.relatorioDesempenho(cm, classes, imprimeRelatorio=True)\n",
    "        resultados.append( auxResults )\n",
    "        \n",
    "    k+=1"
   ]
  },
  {
   "cell_type": "code",
   "execution_count": null,
   "metadata": {},
   "outputs": [],
   "source": []
  },
  {
   "cell_type": "code",
   "execution_count": null,
   "metadata": {},
   "outputs": [],
   "source": []
  }
 ],
 "metadata": {
  "kernelspec": {
   "display_name": "Python 3",
   "language": "python",
   "name": "python3"
  },
  "language_info": {
   "codemirror_mode": {
    "name": "ipython",
    "version": 3
   },
   "file_extension": ".py",
   "mimetype": "text/x-python",
   "name": "python",
   "nbconvert_exporter": "python",
   "pygments_lexer": "ipython3",
   "version": "3.6.8"
  }
 },
 "nbformat": 4,
 "nbformat_minor": 2
}
